{
 "cells": [
  {
   "cell_type": "markdown",
   "metadata": {},
   "source": [
    "# Train CIFAR with the `policy` module\n",
    "\n",
    "Let's install the latest version of Poutyne (if it's not already) and import all the needed packages."
   ]
  },
  {
   "cell_type": "code",
   "execution_count": 1,
   "metadata": {},
   "outputs": [],
   "source": [
    "%pip install --upgrade poutyne\n",
    "\n",
    "import torch\n",
    "import torch.nn as nn\n",
    "import torch.optim as optim\n",
    "import torchvision.datasets as datasets\n",
    "from torch.utils.data import DataLoader\n",
    "from torchvision import transforms\n",
    "from torchvision.models import resnet18\n",
    "\n",
    "from poutyne import Model, OptimizerPolicy, one_cycle_phases"
   ]
  },
  {
   "cell_type": "markdown",
   "metadata": {},
   "source": [
    "## Training constant\n",
    "But first, let's set the training constants, the CUDA device used for training if one is present, we set the batch size (i.e. the number of elements to see before updating the model) and the number of epochs (i.e. the number of times we see the full dataset)."
   ]
  },
  {
   "cell_type": "code",
   "execution_count": 2,
   "metadata": {},
   "outputs": [],
   "source": [
    "cuda_device = 0\n",
    "device = torch.device(\"cuda:%d\" % cuda_device if torch.cuda.is_available() else \"cpu\")\n",
    "\n",
    "batch_size = 1024\n",
    "epochs = 5"
   ]
  },
  {
   "cell_type": "markdown",
   "metadata": {},
   "source": [
    "# Load the data"
   ]
  },
  {
   "cell_type": "code",
   "execution_count": 3,
   "metadata": {},
   "outputs": [],
   "source": [
    "_mean = [0.485, 0.456, 0.406]\n",
    "_std = [0.229, 0.224, 0.225]\n",
    "\n",
    "\n",
    "train_transform = transforms.Compose([\n",
    "    transforms.RandomHorizontalFlip(),\n",
    "    transforms.ColorJitter(.3, .3, .3),\n",
    "    transforms.ToTensor(),\n",
    "    transforms.Normalize(_mean, _std),\n",
    "])\n",
    "val_transform = transforms.Compose([\n",
    "    transforms.ToTensor(),\n",
    "    transforms.Normalize(_mean, _std),\n",
    "])"
   ]
  },
  {
   "cell_type": "code",
   "execution_count": 4,
   "metadata": {},
   "outputs": [
    {
     "name": "stdout",
     "output_type": "stream",
     "text": [
      "Downloading https://www.cs.toronto.edu/~kriz/cifar-10-python.tar.gz to data/cifar-10-python.tar.gz\n"
     ]
    },
    {
     "data": {
      "application/vnd.jupyter.widget-view+json": {
       "model_id": "9c8bd7fa1aad45718f8382deaf398b2b",
       "version_major": 2,
       "version_minor": 0
      },
      "text/plain": [
       "HBox(children=(FloatProgress(value=1.0, bar_style='info', max=1.0), HTML(value='')))"
      ]
     },
     "metadata": {},
     "output_type": "display_data"
    },
    {
     "name": "stdout",
     "output_type": "stream",
     "text": [
      "Extracting data/cifar-10-python.tar.gz to data\n",
      "Files already downloaded and verified\n"
     ]
    }
   ],
   "source": [
    "root = \"data\"\n",
    "train_ds = datasets.CIFAR10(root, train=True, transform=train_transform, download=True)\n",
    "val_ds = datasets.CIFAR10(root, train=False, transform=val_transform, download=True)"
   ]
  },
  {
   "cell_type": "code",
   "execution_count": 5,
   "metadata": {},
   "outputs": [],
   "source": [
    "train_dl = DataLoader(\n",
    "    train_ds,\n",
    "    batch_size=batch_size,\n",
    "    shuffle=True\n",
    ")\n",
    "val_dl = DataLoader(\n",
    "    val_ds,\n",
    "    batch_size=batch_size,\n",
    "    shuffle=False\n",
    ")"
   ]
  },
  {
   "cell_type": "markdown",
   "metadata": {},
   "source": [
    "# The model\n",
    "We'll train a simple `resNet-18` network.\n",
    "This takes a while without GPU but is pretty quick with GPU."
   ]
  },
  {
   "cell_type": "code",
   "execution_count": 6,
   "metadata": {},
   "outputs": [],
   "source": [
    "def get_module():\n",
    "    model = resnet18(pretrained=False)\n",
    "    model.avgpool = nn.AdaptiveAvgPool2d(1)\n",
    "    model.fc = nn.Linear(512, 10)\n",
    "    return model\n"
   ]
  },
  {
   "cell_type": "markdown",
   "metadata": {},
   "source": [
    "# Training without the `policies` module"
   ]
  },
  {
   "cell_type": "code",
   "execution_count": 7,
   "metadata": {},
   "outputs": [
    {
     "name": "stdout",
     "output_type": "stream",
     "text": [
      "\n",
      "\n",
      "\n",
      "\n",
      "\u001b[93mEpoch: \u001b[94m1/5 \u001b[93mStep: \u001b[94m49/49 \u001b[93m100.00% |\u001b[92m█████████████████████████\u001b[93m|\u001b[32m8.58s \u001b[93mloss:\u001b[96m 2.115964\u001b[93m acc:\u001b[96m 22.938000\u001b[93m val_loss:\u001b[96m 1.869150\u001b[93m val_acc:\u001b[96m 32.870000\u001b[0m\n",
      "\u001b[93mEpoch: \u001b[94m2/5 \u001b[93mStep: \u001b[94m49/49 \u001b[93m100.00% |\u001b[92m█████████████████████████\u001b[93m|\u001b[32m8.36s \u001b[93mloss:\u001b[96m 1.805687\u001b[93m acc:\u001b[96m 34.560000\u001b[93m val_loss:\u001b[96m 1.682006\u001b[93m val_acc:\u001b[96m 39.280000\u001b[0m\n",
      "\u001b[93mEpoch: \u001b[94m3/5 \u001b[93mStep: \u001b[94m49/49 \u001b[93m100.00% |\u001b[92m█████████████████████████\u001b[93m|\u001b[32m8.38s \u001b[93mloss:\u001b[96m 1.658098\u001b[93m acc:\u001b[96m 40.008000\u001b[93m val_loss:\u001b[96m 1.610190\u001b[93m val_acc:\u001b[96m 41.670000\u001b[0m\n",
      "\u001b[93mEpoch: \u001b[94m4/5 \u001b[93mStep: \u001b[94m49/49 \u001b[93m100.00% |\u001b[92m█████████████████████████\u001b[93m|\u001b[32m8.36s \u001b[93mloss:\u001b[96m 1.563534\u001b[93m acc:\u001b[96m 43.264000\u001b[93m val_loss:\u001b[96m 1.502107\u001b[93m val_acc:\u001b[96m 45.430000\u001b[0m\n",
      "\u001b[93mEpoch: \u001b[94m5/5 \u001b[93mStep: \u001b[94m49/49 \u001b[93m100.00% |\u001b[92m█████████████████████████\u001b[93m|\u001b[32m8.41s \u001b[93mloss:\u001b[96m 1.504496\u001b[93m acc:\u001b[96m 45.646000\u001b[93m val_loss:\u001b[96m 1.461815\u001b[93m val_acc:\u001b[96m 46.660000\u001b[0m\n"
     ]
    }
   ],
   "source": [
    "pytorch_network = get_module().to(device)\n",
    "criterion = nn.CrossEntropyLoss()\n",
    "optimizer = optim.SGD(pytorch_network.parameters(), lr=0.01)\n",
    "\n",
    "model = Model(\n",
    "    pytorch_network,\n",
    "    optimizer,\n",
    "    criterion,\n",
    "    batch_metrics=[\"acc\"],\n",
    ")\n",
    "model = model.to(device)\n",
    "\n",
    "history = model.fit_generator(\n",
    "    train_dl,\n",
    "    val_dl,\n",
    "    epochs=epochs,\n",
    ")"
   ]
  },
  {
   "cell_type": "markdown",
   "metadata": {},
   "source": [
    "# Training with the `policies` module"
   ]
  },
  {
   "cell_type": "code",
   "execution_count": 8,
   "metadata": {},
   "outputs": [
    {
     "data": {
      "text/plain": [
       "49"
      ]
     },
     "execution_count": 8,
     "metadata": {},
     "output_type": "execute_result"
    }
   ],
   "source": [
    "steps_per_epoch = len(train_dl)\n",
    "steps_per_epoch"
   ]
  },
  {
   "cell_type": "code",
   "execution_count": 9,
   "metadata": {},
   "outputs": [
    {
     "name": "stdout",
     "output_type": "stream",
     "text": [
      "\u001b[93mEpoch: \u001b[94m1/5 \u001b[93mStep: \u001b[94m49/49 \u001b[93m100.00% |\u001b[92m█████████████████████████\u001b[93m|\u001b[32m8.50s \u001b[93mloss:\u001b[96m 1.847516\u001b[93m acc:\u001b[96m 33.342000\u001b[93m val_loss:\u001b[96m 1.675540\u001b[93m val_acc:\u001b[96m 42.400000\u001b[0m\n",
      "\u001b[93mEpoch: \u001b[94m2/5 \u001b[93mStep: \u001b[94m49/49 \u001b[93m100.00% |\u001b[92m█████████████████████████\u001b[93m|\u001b[32m8.56s \u001b[93mloss:\u001b[96m 1.400317\u001b[93m acc:\u001b[96m 49.748000\u001b[93m val_loss:\u001b[96m 1.323423\u001b[93m val_acc:\u001b[96m 52.840000\u001b[0m\n",
      "\u001b[93mEpoch: \u001b[94m3/5 \u001b[93mStep: \u001b[94m49/49 \u001b[93m100.00% |\u001b[92m█████████████████████████\u001b[93m|\u001b[32m8.53s \u001b[93mloss:\u001b[96m 1.142495\u001b[93m acc:\u001b[96m 59.492000\u001b[93m val_loss:\u001b[96m 1.117616\u001b[93m val_acc:\u001b[96m 61.920000\u001b[0m\n",
      "\u001b[93mEpoch: \u001b[94m4/5 \u001b[93mStep: \u001b[94m49/49 \u001b[93m100.00% |\u001b[92m█████████████████████████\u001b[93m|\u001b[32m8.53s \u001b[93mloss:\u001b[96m 0.946500\u001b[93m acc:\u001b[96m 66.758000\u001b[93m val_loss:\u001b[96m 0.941687\u001b[93m val_acc:\u001b[96m 67.420000\u001b[0m\n",
      "\u001b[93mEpoch: \u001b[94m5/5 \u001b[93mStep: \u001b[94m49/49 \u001b[93m100.00% |\u001b[92m█████████████████████████\u001b[93m|\u001b[32m8.51s \u001b[93mloss:\u001b[96m 0.782936\u001b[93m acc:\u001b[96m 72.502000\u001b[93m val_loss:\u001b[96m 0.847208\u001b[93m val_acc:\u001b[96m 70.250000\u001b[0m\n"
     ]
    }
   ],
   "source": [
    "pytorch_network = get_module().to(device)\n",
    "criterion = nn.CrossEntropyLoss()\n",
    "optimizer = optim.SGD(pytorch_network.parameters(), lr=0.01)\n",
    "\n",
    "model = Model(\n",
    "    pytorch_network,\n",
    "    optimizer,\n",
    "    criterion,\n",
    "    batch_metrics=[\"acc\"],\n",
    ")\n",
    "model = model.to(device)\n",
    "\n",
    "policy = OptimizerPolicy(\n",
    "    one_cycle_phases(epochs * steps_per_epoch, lr=(0.01, 0.1, 0.008)),\n",
    ")\n",
    "history = model.fit_generator(\n",
    "    train_dl,\n",
    "    val_dl,\n",
    "    epochs=epochs,\n",
    "    callbacks=[policy],\n",
    ")"
   ]
  }
 ],
 "metadata": {
  "accelerator": "GPU",
  "kernelspec": {
   "display_name": "Python 3",
   "language": "python",
   "name": "python3"
  },
  "language_info": {
   "codemirror_mode": {
    "name": "ipython",
    "version": 3
   },
   "file_extension": ".py",
   "mimetype": "text/x-python",
   "name": "python",
   "nbconvert_exporter": "python",
   "pygments_lexer": "ipython3",
   "version": "3.8.2"
  }
 },
 "nbformat": 4,
 "nbformat_minor": 2
}
