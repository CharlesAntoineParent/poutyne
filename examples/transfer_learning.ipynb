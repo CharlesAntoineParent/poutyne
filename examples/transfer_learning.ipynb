{
 "cells": [
  {
   "cell_type": "code",
   "execution_count": 1,
   "metadata": {},
   "outputs": [],
   "source": [
    "import os\n",
    "import urllib.request\n",
    "import tarfile\n",
    "from shutil import copyfile\n",
    "import math\n",
    "import numpy as np\n",
    "import pandas as pd\n",
    "import matplotlib.pyplot as plt\n",
    "\n",
    "from torchvision import transforms\n",
    "\n",
    "import torch\n",
    "import torch.nn as nn\n",
    "import torch.optim as optim\n",
    "import torchvision.models as models\n",
    "from torchvision.datasets import ImageFolder\n",
    "\n",
    "from torch.utils import model_zoo\n",
    "\n",
    "from poutyne.framework import Model, ModelCheckpoint, BestModelRestore, CSVLogger\n",
    "from poutyne import torch_to_numpy"
   ]
  },
  {
   "cell_type": "code",
   "execution_count": 2,
   "metadata": {},
   "outputs": [],
   "source": [
    "def download_and_extract_dataset(path):\n",
    "    tgz_filename = \"images.tgz\"\n",
    "    urllib.request.urlretrieve(\"http://www.vision.caltech.edu/visipedia-data/CUB-200/images.tgz\", tgz_filename)\n",
    "    os.makedirs(path, exist_ok=True)\n",
    "    archive = tarfile.open(tgz_filename)\n",
    "    archive.extractall(path)"
   ]
  },
  {
   "cell_type": "code",
   "execution_count": 3,
   "metadata": {},
   "outputs": [],
   "source": [
    "def copy(source_path, filenames, dest_path):\n",
    "    for filename in filenames:\n",
    "        source = os.path.join(source_path, filename)\n",
    "        dest = os.path.join(dest_path, filename)\n",
    "        copyfile(source, dest)\n",
    "\n",
    "def split_train_valid_test(dataset_path, train_path, valid_path, test_path, train_split=0.6, valid_split=0.2): # test_split=0.2\n",
    "    np.random.seed(42)\n",
    "    for classname in sorted(os.listdir(dataset_path)):\n",
    "        if classname.startswith('.'):\n",
    "            continue\n",
    "        train_class_path = os.path.join(train_path, classname)\n",
    "        valid_class_path = os.path.join(valid_path, classname)\n",
    "        test_class_path = os.path.join(test_path, classname)\n",
    "\n",
    "        os.makedirs(train_class_path, exist_ok=True)\n",
    "        os.makedirs(valid_class_path, exist_ok=True)\n",
    "        os.makedirs(test_class_path, exist_ok=True)\n",
    "\n",
    "        dataset_class_path = os.path.join(dataset_path, classname)\n",
    "        filenames = sorted(filename for filename in os.listdir(dataset_class_path) if not filename.startswith('.'))\n",
    "        np.random.shuffle(filenames)\n",
    "\n",
    "        num_examples = len(filenames)\n",
    "        train_last_idx = math.ceil(num_examples*train_split)\n",
    "        valid_last_idx = train_last_idx + math.floor(num_examples*valid_split)\n",
    "        train_filenames = filenames[0:train_last_idx]\n",
    "        valid_filenames = filenames[train_last_idx:valid_last_idx]\n",
    "        test_filenames = filenames[valid_last_idx:]\n",
    "        copy(dataset_class_path, train_filenames, train_class_path)\n",
    "        copy(dataset_class_path, valid_filenames, valid_class_path)\n",
    "        copy(dataset_class_path, test_filenames, test_class_path)"
   ]
  },
  {
   "cell_type": "code",
   "execution_count": 4,
   "metadata": {},
   "outputs": [],
   "source": [
    "# We do the split train/valid/test.\n",
    "\n",
    "base_path = './CUB200'\n",
    "dataset_path = os.path.join(base_path, 'images')\n",
    "train_path = os.path.join(base_path, 'train')\n",
    "valid_path = os.path.join(base_path, 'valid')\n",
    "test_path = os.path.join(base_path, 'test')"
   ]
  },
  {
   "cell_type": "code",
   "execution_count": 5,
   "metadata": {},
   "outputs": [],
   "source": [
    "download_and_extract_dataset(base_path)\n",
    "split_train_valid_test(dataset_path, train_path, valid_path, test_path)"
   ]
  },
  {
   "cell_type": "code",
   "execution_count": 6,
   "metadata": {},
   "outputs": [],
   "source": [
    "cuda_device = 0\n",
    "device = torch.device(\"cuda:%d\" % cuda_device if torch.cuda.is_available() else \"cpu\")"
   ]
  },
  {
   "cell_type": "code",
   "execution_count": 7,
   "metadata": {},
   "outputs": [],
   "source": [
    "# Training hyperparameters\n",
    "\n",
    "batch_size = 32\n",
    "learning_rate = 0.1\n",
    "n_epoch = 30\n",
    "num_classes = 200"
   ]
  },
  {
   "cell_type": "code",
   "execution_count": 8,
   "metadata": {},
   "outputs": [
    {
     "data": {
      "text/plain": [
       "<torch._C.Generator at 0x7f82dab99910>"
      ]
     },
     "execution_count": 8,
     "metadata": {},
     "output_type": "execute_result"
    }
   ],
   "source": [
    "torch.manual_seed(42)"
   ]
  },
  {
   "cell_type": "code",
   "execution_count": 9,
   "metadata": {},
   "outputs": [],
   "source": [
    "# Creation of the PyTorch's datasets for our problem.\n",
    "\n",
    "norm_coefs = {}\n",
    "norm_coefs['cub200'] = [(0.47421962,  0.4914721 ,  0.42382449), (0.22846779,  0.22387765,  0.26495799)]\n",
    "norm_coefs['imagenet'] = [(0.485, 0.456, 0.406), (0.229, 0.224, 0.225)]\n",
    "transform = transforms.Compose([\n",
    "    transforms.Resize((224,224)),\n",
    "    transforms.ToTensor(),\n",
    "    transforms.Normalize(*norm_coefs['cub200'])\n",
    "])\n",
    "\n",
    "train_set = ImageFolder(train_path, transform=transform)\n",
    "valid_set = ImageFolder(valid_path, transform=transform)\n",
    "test_set = ImageFolder(test_path, transform=transform)\n",
    "\n",
    "\n",
    "train_loader = torch.utils.data.DataLoader(train_set, batch_size=batch_size, shuffle=True)\n",
    "valid_loader = torch.utils.data.DataLoader(valid_set, batch_size=batch_size)\n",
    "test_loader = torch.utils.data.DataLoader(test_set, batch_size=batch_size)"
   ]
  },
  {
   "cell_type": "code",
   "execution_count": 10,
   "metadata": {
    "scrolled": false
   },
   "outputs": [],
   "source": [
    "# Loading a pretrained ResNet-18 networks and replacing \n",
    "# the head with the number of neurons equal to our number \n",
    "# of classes.\n",
    "\n",
    "resnet18 = models.resnet18(pretrained=True)\n",
    "resnet18.fc = nn.Linear(resnet18.fc.in_features, num_classes)"
   ]
  },
  {
   "cell_type": "code",
   "execution_count": 11,
   "metadata": {},
   "outputs": [],
   "source": [
    "# We freeze the network except for its head.\n",
    "\n",
    "def freeze_weights(resnet18):\n",
    "    for name, param in resnet18.named_parameters():\n",
    "        if not name.startswith('fc.'):\n",
    "            param.requires_grad = False\n",
    "\n",
    "freeze_weights(resnet18)"
   ]
  },
  {
   "cell_type": "code",
   "execution_count": 12,
   "metadata": {},
   "outputs": [],
   "source": [
    "# One nice feature of Poutyne is callbacks.\n",
    "\n",
    "callbacks = [\n",
    "    # Save the latest weights to be able to continue the optimization at the end for more epochs.\n",
    "    ModelCheckpoint('last_epoch.ckpt', temporary_filename='last_epoch.ckpt.tmp'),\n",
    "    \n",
    "    # Save the weights in a new file when the current model is better than all previous models.\n",
    "    ModelCheckpoint('best_epoch_{epoch}.ckpt', monitor='val_acc', mode='max', save_best_only=True, restore_best=True, verbose=True, temporary_filename='best_epoch.ckpt.tmp'),\n",
    "    \n",
    "    # Save the losses and accuracies for each epoch in a TSV.\n",
    "    CSVLogger('log.tsv', separator='\\t'),\n",
    "]"
   ]
  },
  {
   "cell_type": "code",
   "execution_count": 13,
   "metadata": {},
   "outputs": [
    {
     "name": "stdout",
     "output_type": "stream",
     "text": [
      "Epoch 1/30 27.98s Step 111/111: loss: 4.787067, acc: 6.101695, val_loss: 3.996494, val_acc: 9.646018\n",
      "Epoch 1: val_acc improved from -inf to 9.64602, saving file to best_epoch_1.ckpt\n",
      "Epoch 2/30 28.19s Step 111/111: loss: 3.087052, acc: 30.960452, val_loss: 3.078258, val_acc: 30.973451\n",
      "Epoch 2: val_acc improved from 9.64602 to 30.97345, saving file to best_epoch_2.ckpt\n",
      "Epoch 3/30 28.18s Step 111/111: loss: 2.187894, acc: 52.118644, val_loss: 2.815229, val_acc: 31.415929\n",
      "Epoch 3: val_acc improved from 30.97345 to 31.41593, saving file to best_epoch_3.ckpt\n",
      "Epoch 4/30 28.19s Step 111/111: loss: 1.680886, acc: 64.943503, val_loss: 2.534553, val_acc: 37.345133\n",
      "Epoch 4: val_acc improved from 31.41593 to 37.34513, saving file to best_epoch_4.ckpt\n",
      "Epoch 5/30 28.91s Step 111/111: loss: 1.341334, acc: 73.418079, val_loss: 2.304722, val_acc: 44.159292\n",
      "Epoch 5: val_acc improved from 37.34513 to 44.15929, saving file to best_epoch_5.ckpt\n",
      "Epoch 6/30 29.06s Step 111/111: loss: 1.139022, acc: 79.209040, val_loss: 2.255917, val_acc: 43.982301\n",
      "Epoch 7/30 29.23s Step 111/111: loss: 0.954160, acc: 83.305085, val_loss: 2.177992, val_acc: 45.398230\n",
      "Epoch 7: val_acc improved from 44.15929 to 45.39823, saving file to best_epoch_7.ckpt\n",
      "Epoch 8/30 28.87s Step 111/111: loss: 0.833283, acc: 86.355932, val_loss: 2.140329, val_acc: 47.787611\n",
      "Epoch 8: val_acc improved from 45.39823 to 47.78761, saving file to best_epoch_8.ckpt\n",
      "Epoch 9/30 29.04s Step 111/111: loss: 0.722319, acc: 89.661017, val_loss: 2.095337, val_acc: 46.548673\n",
      "Epoch 10/30 28.67s Step 111/111: loss: 0.638380, acc: 91.779661, val_loss: 2.178889, val_acc: 43.893805\n",
      "Epoch 11/30 30.48s Step 111/111: loss: 0.594623, acc: 92.881356, val_loss: 2.118647, val_acc: 46.106195\n",
      "Epoch 12/30 30.36s Step 111/111: loss: 0.512462, acc: 95.000000, val_loss: 2.050763, val_acc: 48.230089\n",
      "Epoch 12: val_acc improved from 47.78761 to 48.23009, saving file to best_epoch_12.ckpt\n",
      "Epoch 13/30 28.50s Step 111/111: loss: 0.473167, acc: 95.988701, val_loss: 2.081674, val_acc: 48.849558\n",
      "Epoch 13: val_acc improved from 48.23009 to 48.84956, saving file to best_epoch_13.ckpt\n",
      "Epoch 14/30 28.66s Step 111/111: loss: 0.439125, acc: 96.440678, val_loss: 2.062657, val_acc: 47.787611\n",
      "Epoch 15/30 29.02s Step 111/111: loss: 0.411999, acc: 96.779661, val_loss: 2.043332, val_acc: 49.646018\n",
      "Epoch 15: val_acc improved from 48.84956 to 49.64602, saving file to best_epoch_15.ckpt\n",
      "Epoch 16/30 28.56s Step 111/111: loss: 0.376445, acc: 97.796610, val_loss: 2.024585, val_acc: 50.176991\n",
      "Epoch 16: val_acc improved from 49.64602 to 50.17699, saving file to best_epoch_16.ckpt\n",
      "Epoch 17/30 28.67s Step 111/111: loss: 0.361033, acc: 98.050847, val_loss: 1.999433, val_acc: 50.176991\n",
      "Epoch 17: val_acc improved from 50.17699 to 50.17699, saving file to best_epoch_17.ckpt\n",
      "Epoch 18/30 28.81s Step 111/111: loss: 0.324225, acc: 98.220339, val_loss: 2.008300, val_acc: 50.353982\n",
      "Epoch 18: val_acc improved from 50.17699 to 50.35398, saving file to best_epoch_18.ckpt\n",
      "Epoch 19/30 28.81s Step 111/111: loss: 0.321726, acc: 98.418079, val_loss: 2.006804, val_acc: 50.000000\n",
      "Epoch 20/30 28.43s Step 111/111: loss: 0.299756, acc: 98.983051, val_loss: 2.043492, val_acc: 50.000000\n",
      "Epoch 21/30 28.33s Step 111/111: loss: 0.289244, acc: 99.011299, val_loss: 2.005012, val_acc: 50.796460\n",
      "Epoch 21: val_acc improved from 50.35398 to 50.79646, saving file to best_epoch_21.ckpt\n",
      "Epoch 22/30 28.04s Step 111/111: loss: 0.276358, acc: 99.180791, val_loss: 2.019184, val_acc: 48.849558\n",
      "Epoch 23/30 28.24s Step 111/111: loss: 0.270206, acc: 99.180791, val_loss: 2.026216, val_acc: 48.938053\n",
      "Epoch 24/30 28.30s Step 111/111: loss: 0.259659, acc: 99.406780, val_loss: 1.990507, val_acc: 50.442478\n",
      "Epoch 25/30 29.15s Step 111/111: loss: 0.246785, acc: 99.576271, val_loss: 2.002621, val_acc: 50.176991\n",
      "Epoch 26/30 28.96s Step 111/111: loss: 0.238688, acc: 99.463277, val_loss: 2.022177, val_acc: 49.203540\n",
      "Epoch 27/30 28.29s Step 111/111: loss: 0.231480, acc: 99.435028, val_loss: 1.990651, val_acc: 50.442478\n",
      "Epoch 28/30 28.82s Step 111/111: loss: 0.222940, acc: 99.604520, val_loss: 2.005566, val_acc: 49.380531\n",
      "Epoch 29/30 29.34s Step 111/111: loss: 0.222192, acc: 99.519774, val_loss: 2.011002, val_acc: 50.884956\n",
      "Epoch 29: val_acc improved from 50.79646 to 50.88496, saving file to best_epoch_29.ckpt\n",
      "Epoch 30/30 28.78s Step 111/111: loss: 0.214540, acc: 99.576271, val_loss: 1.985277, val_acc: 50.796460\n",
      "Restoring model from best_epoch_29.ckpt\n",
      "Test:\n",
      "\tLoss: 2.092707781431348\n",
      "\tAccuracy: 50.33015409149147\n"
     ]
    }
   ],
   "source": [
    "# Finally, we start the training and output its final test \n",
    "# loss and accuracy.\n",
    "\n",
    "# Optimizer and loss function\n",
    "optimizer = optim.SGD(resnet18.fc.parameters(), lr=learning_rate, weight_decay=0.001)\n",
    "loss_function = nn.CrossEntropyLoss()\n",
    "\n",
    "# Poutyne Model\n",
    "model = Model(resnet18, optimizer, loss_function, metrics=['accuracy'])\n",
    "\n",
    "# Send model on GPU\n",
    "model.to(device)\n",
    "\n",
    "# Train\n",
    "model.fit_generator(train_loader, valid_loader, epochs=n_epoch, callbacks=callbacks)\n",
    "\n",
    "# Test\n",
    "test_loss, test_acc = model.evaluate_generator(test_loader)\n",
    "print('Test:\\n\\tLoss: {}\\n\\tAccuracy: {}'.format(test_loss, test_acc))"
   ]
  },
  {
   "cell_type": "code",
   "execution_count": 14,
   "metadata": {
    "scrolled": false
   },
   "outputs": [
    {
     "name": "stdout",
     "output_type": "stream",
     "text": [
      "    epoch   lr      loss        acc  val_loss    val_acc\n",
      "0       1  0.1  4.787067   6.101695  3.996494   9.646018\n",
      "1       2  0.1  3.087052  30.960452  3.078258  30.973451\n",
      "2       3  0.1  2.187894  52.118644  2.815229  31.415929\n",
      "3       4  0.1  1.680886  64.943503  2.534553  37.345133\n",
      "4       5  0.1  1.341334  73.418079  2.304722  44.159292\n",
      "5       6  0.1  1.139022  79.209040  2.255917  43.982301\n",
      "6       7  0.1  0.954160  83.305085  2.177992  45.398230\n",
      "7       8  0.1  0.833283  86.355932  2.140329  47.787611\n",
      "8       9  0.1  0.722319  89.661017  2.095337  46.548673\n",
      "9      10  0.1  0.638380  91.779661  2.178889  43.893805\n",
      "10     11  0.1  0.594623  92.881356  2.118647  46.106195\n",
      "11     12  0.1  0.512462  95.000000  2.050763  48.230089\n",
      "12     13  0.1  0.473167  95.988701  2.081674  48.849558\n",
      "13     14  0.1  0.439125  96.440678  2.062657  47.787611\n",
      "14     15  0.1  0.411999  96.779661  2.043332  49.646018\n",
      "15     16  0.1  0.376445  97.796610  2.024585  50.176991\n",
      "16     17  0.1  0.361033  98.050847  1.999433  50.176991\n",
      "17     18  0.1  0.324225  98.220339  2.008300  50.353982\n",
      "18     19  0.1  0.321726  98.418079  2.006804  50.000000\n",
      "19     20  0.1  0.299756  98.983051  2.043492  50.000000\n",
      "20     21  0.1  0.289244  99.011299  2.005012  50.796460\n",
      "21     22  0.1  0.276358  99.180791  2.019184  48.849558\n",
      "22     23  0.1  0.270206  99.180791  2.026216  48.938053\n",
      "23     24  0.1  0.259659  99.406780  1.990507  50.442478\n",
      "24     25  0.1  0.246785  99.576271  2.002621  50.176991\n",
      "25     26  0.1  0.238688  99.463277  2.022177  49.203540\n",
      "26     27  0.1  0.231480  99.435028  1.990651  50.442478\n",
      "27     28  0.1  0.222940  99.604520  2.005566  49.380531\n",
      "28     29  0.1  0.222192  99.519774  2.011002  50.884956\n",
      "29     30  0.1  0.214540  99.576271  1.985277  50.796460\n",
      "Best epoch: 29\n"
     ]
    }
   ],
   "source": [
    "logs = pd.read_csv('log.tsv', sep='\\t')\n",
    "print(logs)\n",
    "\n",
    "best_epoch_idx = logs['val_acc'].idxmax()\n",
    "best_epoch = int(logs.loc[best_epoch_idx]['epoch'])\n",
    "print(\"Best epoch: %d\" % best_epoch)"
   ]
  },
  {
   "cell_type": "code",
   "execution_count": 15,
   "metadata": {
    "scrolled": true
   },
   "outputs": [
    {
     "data": {
      "image/png": "[encoded data removed]",
      "text/plain": [
       "<matplotlib.figure.Figure at 0x7f8299f52240>"
      ]
     },
     "metadata": {},
     "output_type": "display_data"
    }
   ],
   "source": [
    "metrics = ['loss', 'val_loss']\n",
    "plt.plot(logs['epoch'], logs[metrics])\n",
    "plt.legend(metrics)\n",
    "plt.show()"
   ]
  },
  {
   "cell_type": "code",
   "execution_count": 16,
   "metadata": {},
   "outputs": [
    {
     "data": {
      "image/png": "[encoded data removed]",
      "text/plain": [
       "<matplotlib.figure.Figure at 0x7f8290fe7940>"
      ]
     },
     "metadata": {},
     "output_type": "display_data"
    }
   ],
   "source": [
    "metrics = ['acc', 'val_acc']\n",
    "plt.plot(logs['epoch'], logs[metrics])\n",
    "plt.legend(metrics)\n",
    "plt.show()"
   ]
  },
  {
   "cell_type": "code",
   "execution_count": 17,
   "metadata": {},
   "outputs": [
    {
     "name": "stdout",
     "output_type": "stream",
     "text": [
      "Test:\n",
      "\tLoss: 2.092707781431348\n",
      "\tAccuracy: 50.33015409149147\n"
     ]
    }
   ],
   "source": [
    "# Restore best model from checkpoint and test it.\n",
    "\n",
    "resnet18 = models.resnet18(pretrained=False, num_classes=num_classes)\n",
    "\n",
    "model = Model(resnet18, None, nn.CrossEntropyLoss(), metrics=['accuracy'])\n",
    "\n",
    "model.to(device)\n",
    "\n",
    "model.load_weights('best_epoch_{epoch}.ckpt'.format(epoch=best_epoch))\n",
    "\n",
    "test_loss, test_acc = model.evaluate_generator(test_loader)\n",
    "print('Test:\\n\\tLoss: {}\\n\\tAccuracy: {}'.format(test_loss, test_acc))"
   ]
  },
  {
   "cell_type": "code",
   "execution_count": null,
   "metadata": {},
   "outputs": [],
   "source": []
  }
 ],
 "metadata": {
  "kernelspec": {
   "display_name": "Python 3",
   "language": "python",
   "name": "python3"
  },
  "language_info": {
   "codemirror_mode": {
    "name": "ipython",
    "version": 3
   },
   "file_extension": ".py",
   "mimetype": "text/x-python",
   "name": "python",
   "nbconvert_exporter": "python",
   "pygments_lexer": "ipython3",
   "version": "3.6.8"
  }
 },
 "nbformat": 4,
 "nbformat_minor": 2
}
